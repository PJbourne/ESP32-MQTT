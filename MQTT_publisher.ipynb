{
  "nbformat": 4,
  "nbformat_minor": 0,
  "metadata": {
    "colab": {
      "provenance": [],
      "include_colab_link": true
    },
    "kernelspec": {
      "name": "python3",
      "display_name": "Python 3"
    },
    "language_info": {
      "name": "python"
    }
  },
  "cells": [
    {
      "cell_type": "markdown",
      "metadata": {
        "id": "view-in-github",
        "colab_type": "text"
      },
      "source": [
        "<a href=\"https://colab.research.google.com/github/PJbourne/ESP32-MQTT/blob/main/MQTT_publisher.ipynb\" target=\"_parent\"><img src=\"https://colab.research.google.com/assets/colab-badge.svg\" alt=\"Open In Colab\"/></a>"
      ]
    },
    {
      "cell_type": "code",
      "execution_count": null,
      "metadata": {
        "colab": {
          "base_uri": "https://localhost:8080/"
        },
        "id": "-93fwX7KM7SZ",
        "outputId": "ed8b6444-e04a-479f-c836-7d0bfcebdeec"
      },
      "outputs": [
        {
          "output_type": "stream",
          "name": "stdout",
          "text": [
            "Collecting paho-mqtt\n",
            "  Downloading paho_mqtt-2.1.0-py3-none-any.whl.metadata (23 kB)\n",
            "Downloading paho_mqtt-2.1.0-py3-none-any.whl (67 kB)\n",
            "\u001b[2K   \u001b[90m━━━━━━━━━━━━━━━━━━━━━━━━━━━━━━━━━━━━━━━━\u001b[0m \u001b[32m67.2/67.2 kB\u001b[0m \u001b[31m3.0 MB/s\u001b[0m eta \u001b[36m0:00:00\u001b[0m\n",
            "\u001b[?25hInstalling collected packages: paho-mqtt\n",
            "Successfully installed paho-mqtt-2.1.0\n"
          ]
        }
      ],
      "source": [
        "!pip install paho-mqtt"
      ]
    },
    {
      "cell_type": "code",
      "source": [
        "import paho.mqtt.client as paho\n",
        "\n",
        "def on_connect(client, userdata, flags, rc):\n",
        "    print('CONNACK received with code %d.' % (rc))\n",
        "\n",
        "broker = \"92c9c7c9edff45999b7f0dcca22eefb1.s1.eu.hivemq.cloud\"\n",
        "porta = 8883\n",
        "topico = \"emqx/esp32\" #TAVA COM ESPAÇO PABLOKKKKKKKKKK\n",
        "usuario = \"Perceptron\"\n",
        "senha = \"Perceptron2000\"\n",
        "\n",
        "client = paho.Client(client_id=\"\", userdata=None, protocol=paho.MQTTv5)\n",
        "client.tls_set(tls_version=paho.ssl.PROTOCOL_TLS)\n",
        "client.username_pw_set(usuario, senha)\n",
        "client.connect(broker, 8883)"
      ],
      "metadata": {
        "colab": {
          "base_uri": "https://localhost:8080/"
        },
        "id": "vhh3JwLQNpOT",
        "outputId": "6ffcb117-4d43-4c19-d728-9bf38fdeac25"
      },
      "execution_count": null,
      "outputs": [
        {
          "output_type": "stream",
          "name": "stderr",
          "text": [
            "<ipython-input-49-47aed8068eb7>:12: DeprecationWarning: Callback API version 1 is deprecated, update to latest version\n",
            "  client = paho.Client(client_id=\"\", userdata=None, protocol=paho.MQTTv5)\n"
          ]
        },
        {
          "output_type": "execute_result",
          "data": {
            "text/plain": [
              "<MQTTErrorCode.MQTT_ERR_SUCCESS: 0>"
            ]
          },
          "metadata": {},
          "execution_count": 49
        }
      ]
    },
    {
      "cell_type": "code",
      "source": [
        "client.publish(topico, payload=\"0\", qos=1, retain=False)"
      ],
      "metadata": {
        "colab": {
          "base_uri": "https://localhost:8080/"
        },
        "id": "RjNly8g5R2B0",
        "outputId": "63be8888-62d2-4f15-9f6f-35ab5e376b1d"
      },
      "execution_count": null,
      "outputs": [
        {
          "output_type": "execute_result",
          "data": {
            "text/plain": [
              "<paho.mqtt.client.MQTTMessageInfo at 0x7b59c7b4a9d0>"
            ]
          },
          "metadata": {},
          "execution_count": 53
        }
      ]
    },
    {
      "cell_type": "code",
      "source": [
        "client.publish(topico, payload=\"1\", qos=1, retain=False)"
      ],
      "metadata": {
        "colab": {
          "base_uri": "https://localhost:8080/"
        },
        "id": "vUobHZg2hPxy",
        "outputId": "950eb480-a1c2-423c-ee0c-b2d156938e84"
      },
      "execution_count": null,
      "outputs": [
        {
          "output_type": "execute_result",
          "data": {
            "text/plain": [
              "<paho.mqtt.client.MQTTMessageInfo at 0x7b59c7b2b650>"
            ]
          },
          "metadata": {},
          "execution_count": 50
        }
      ]
    },
    {
      "cell_type": "code",
      "source": [
        "client.publish(topico, payload=\"0,20\", qos=1, retain=False)"
      ],
      "metadata": {
        "colab": {
          "base_uri": "https://localhost:8080/"
        },
        "id": "9TUUUG6Zc_dC",
        "outputId": "a954339b-a30c-4fb8-fd87-18520e4c3be9"
      },
      "execution_count": null,
      "outputs": [
        {
          "output_type": "execute_result",
          "data": {
            "text/plain": [
              "<paho.mqtt.client.MQTTMessageInfo at 0x7b59c7b2a0c0>"
            ]
          },
          "metadata": {},
          "execution_count": 51
        }
      ]
    },
    {
      "cell_type": "code",
      "source": [
        "client.publish(topico, payload=\"1,20\", qos=1)"
      ],
      "metadata": {
        "colab": {
          "base_uri": "https://localhost:8080/"
        },
        "id": "xJPw3Pp3gHdN",
        "outputId": "0d3558d3-7102-4c33-fae6-95c4d6ae2014"
      },
      "execution_count": null,
      "outputs": [
        {
          "output_type": "execute_result",
          "data": {
            "text/plain": [
              "<paho.mqtt.client.MQTTMessageInfo at 0x7b59c7b82840>"
            ]
          },
          "metadata": {},
          "execution_count": 52
        }
      ]
    },
    {
      "cell_type": "code",
      "source": [
        "client.publish(topico, payload=\"\", qos=1, retain=True)"
      ],
      "metadata": {
        "id": "aBTUikTXa-QQ",
        "colab": {
          "base_uri": "https://localhost:8080/"
        },
        "outputId": "81412bea-abe6-4d5d-883f-8d01e08d630f"
      },
      "execution_count": null,
      "outputs": [
        {
          "output_type": "execute_result",
          "data": {
            "text/plain": [
              "<paho.mqtt.client.MQTTMessageInfo at 0x7b59c7b62f20>"
            ]
          },
          "metadata": {},
          "execution_count": 34
        }
      ]
    },
    {
      "cell_type": "code",
      "source": [],
      "metadata": {
        "id": "D68b5OR5Y0c_"
      },
      "execution_count": null,
      "outputs": []
    }
  ]
}