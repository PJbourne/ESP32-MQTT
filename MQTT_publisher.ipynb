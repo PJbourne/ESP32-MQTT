{
  "nbformat": 4,
  "nbformat_minor": 0,
  "metadata": {
    "colab": {
      "provenance": [],
      "include_colab_link": true
    },
    "kernelspec": {
      "name": "python3",
      "display_name": "Python 3"
    },
    "language_info": {
      "name": "python"
    }
  },
  "cells": [
    {
      "cell_type": "markdown",
      "metadata": {
        "id": "view-in-github",
        "colab_type": "text"
      },
      "source": [
        "<a href=\"https://colab.research.google.com/github/PJbourne/ESP32-MQTT/blob/main/MQTT_publisher.ipynb\" target=\"_parent\"><img src=\"https://colab.research.google.com/assets/colab-badge.svg\" alt=\"Open In Colab\"/></a>"
      ]
    },
    {
      "cell_type": "code",
      "execution_count": null,
      "metadata": {
        "colab": {
          "base_uri": "https://localhost:8080/"
        },
        "id": "-93fwX7KM7SZ",
        "outputId": "f029e2c2-a3c6-416b-c4fe-62711e7e908f"
      },
      "outputs": [
        {
          "output_type": "stream",
          "name": "stdout",
          "text": [
            "Collecting paho-mqtt\n",
            "  Downloading paho_mqtt-2.1.0-py3-none-any.whl.metadata (23 kB)\n",
            "Downloading paho_mqtt-2.1.0-py3-none-any.whl (67 kB)\n",
            "\u001b[?25l   \u001b[90m━━━━━━━━━━━━━━━━━━━━━━━━━━━━━━━━━━━━━━━━\u001b[0m \u001b[32m0.0/67.2 kB\u001b[0m \u001b[31m?\u001b[0m eta \u001b[36m-:--:--\u001b[0m\r\u001b[2K   \u001b[90m━━━━━━━━━━━━━━━━━━━━━━━━━━━━━━━━━━━━━━━━\u001b[0m \u001b[32m67.2/67.2 kB\u001b[0m \u001b[31m1.9 MB/s\u001b[0m eta \u001b[36m0:00:00\u001b[0m\n",
            "\u001b[?25hInstalling collected packages: paho-mqtt\n",
            "Successfully installed paho-mqtt-2.1.0\n"
          ]
        }
      ],
      "source": [
        "!pip install paho-mqtt"
      ]
    },
    {
      "cell_type": "code",
      "source": [
        "import paho.mqtt.client as paho\n",
        "\n",
        "def on_connect(client, userdata, flags, rc):\n",
        "    print('CONNACK received with code %d.' % (rc))\n",
        "\n",
        "broker = \"92c9c7c9edff45999b7f0dcca22eefb1.s1.eu.hivemq.cloud\"\n",
        "porta = 8883\n",
        "topico = \"emqx/esp32\" #TAVA COM ESPAÇO PABLOKKKKKKKKKK\n",
        "usuario = \"Perceptron\"\n",
        "senha = \"Perceptron2000\"\n",
        "\n",
        "client = paho.Client(client_id=\"\", userdata=None, protocol=paho.MQTTv5)\n",
        "client.tls_set(tls_version=paho.ssl.PROTOCOL_TLS)\n",
        "client.username_pw_set(usuario, senha)\n",
        "client.connect(broker, 8883)"
      ],
      "metadata": {
        "colab": {
          "base_uri": "https://localhost:8080/"
        },
        "id": "vhh3JwLQNpOT",
        "outputId": "ec694681-e0d7-4f50-f297-c841c5610471"
      },
      "execution_count": null,
      "outputs": [
        {
          "output_type": "stream",
          "name": "stderr",
          "text": [
            "<ipython-input-7-47aed8068eb7>:12: DeprecationWarning: Callback API version 1 is deprecated, update to latest version\n",
            "  client = paho.Client(client_id=\"\", userdata=None, protocol=paho.MQTTv5)\n"
          ]
        },
        {
          "output_type": "execute_result",
          "data": {
            "text/plain": [
              "<MQTTErrorCode.MQTT_ERR_SUCCESS: 0>"
            ]
          },
          "metadata": {},
          "execution_count": 7
        }
      ]
    },
    {
      "cell_type": "code",
      "source": [
        "client.publish(topico, payload=\"0\", qos=1)"
      ],
      "metadata": {
        "colab": {
          "base_uri": "https://localhost:8080/"
        },
        "id": "RjNly8g5R2B0",
        "outputId": "390519fc-126c-4496-dc38-10cc228d2436"
      },
      "execution_count": null,
      "outputs": [
        {
          "output_type": "execute_result",
          "data": {
            "text/plain": [
              "<paho.mqtt.client.MQTTMessageInfo at 0x7e71814b5a30>"
            ]
          },
          "metadata": {},
          "execution_count": 8
        }
      ]
    },
    {
      "cell_type": "code",
      "source": [
        "client.publish(topico, payload=\"1\", qos=1)"
      ],
      "metadata": {
        "id": "iBWBXskLV9f-",
        "colab": {
          "base_uri": "https://localhost:8080/"
        },
        "outputId": "4fdf6076-b663-4ac2-950d-3e3ca5516f6f"
      },
      "execution_count": null,
      "outputs": [
        {
          "output_type": "execute_result",
          "data": {
            "text/plain": [
              "<paho.mqtt.client.MQTTMessageInfo at 0x7e71814b7fb0>"
            ]
          },
          "metadata": {},
          "execution_count": 9
        }
      ]
    },
    {
      "cell_type": "code",
      "source": [],
      "metadata": {
        "id": "aBTUikTXa-QQ"
      },
      "execution_count": null,
      "outputs": []
    }
  ]
}